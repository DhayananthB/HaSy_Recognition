{
  "nbformat": 4,
  "nbformat_minor": 0,
  "metadata": {
    "colab": {
      "provenance": [],
      "gpuType": "T4",
      "authorship_tag": "ABX9TyORnU02cBLmIR0R1bhy33fc",
      "include_colab_link": true
    },
    "kernelspec": {
      "name": "python3",
      "display_name": "Python 3"
    },
    "language_info": {
      "name": "python"
    },
    "accelerator": "GPU"
  },
  "cells": [
    {
      "cell_type": "markdown",
      "metadata": {
        "id": "view-in-github",
        "colab_type": "text"
      },
      "source": [
        "<a href=\"https://colab.research.google.com/github/DhayananthB/HaSy_Recognition/blob/main/Hasy.ipynb\" target=\"_parent\"><img src=\"https://colab.research.google.com/assets/colab-badge.svg\" alt=\"Open In Colab\"/></a>"
      ]
    },
    {
      "cell_type": "code",
      "source": [
        "import torch\n",
        "from torch import nn\n",
        "from torch.utils.data import DataLoader\n",
        "from torchvision.transforms import ToTensor\n",
        "import matplotlib.pyplot as plt\n",
        "from torchvision import transforms\n",
        "import torch.optim as optim"
      ],
      "metadata": {
        "id": "Df4je8wTKQW5"
      },
      "execution_count": 1,
      "outputs": []
    },
    {
      "cell_type": "code",
      "execution_count": 2,
      "metadata": {
        "id": "WbFLL8vsFoTJ"
      },
      "outputs": [],
      "source": [
        " #!pip install deeplake\n",
        "import deeplake\n"
      ]
    },
    {
      "cell_type": "markdown",
      "source": [
        "# Dataset Description\n",
        "- HASY (Handwritten Symbol Dataset)\n",
        "- 168,233 instances of 369 classes\n",
        "- 3X32x32  images"
      ],
      "metadata": {
        "id": "q4t1A1vD66n1"
      }
    },
    {
      "cell_type": "markdown",
      "source": [
        "### Reading data"
      ],
      "metadata": {
        "id": "vUKHpvMo78yM"
      }
    },
    {
      "cell_type": "code",
      "source": [
        "ds = deeplake.load(\"hub://activeloop/hasy-train\")"
      ],
      "metadata": {
        "colab": {
          "base_uri": "https://localhost:8080/"
        },
        "id": "ao5D1zsiFrgI",
        "outputId": "394ee7b9-a621-472d-93ae-10061b02de90"
      },
      "execution_count": 3,
      "outputs": [
        {
          "output_type": "stream",
          "name": "stderr",
          "text": [
            "\r\r"
          ]
        },
        {
          "output_type": "stream",
          "name": "stdout",
          "text": [
            "Opening dataset in read-only mode as you don't have write permissions.\n"
          ]
        },
        {
          "output_type": "stream",
          "name": "stderr",
          "text": [
            "\\"
          ]
        },
        {
          "output_type": "stream",
          "name": "stdout",
          "text": [
            "This dataset can be visualized in Jupyter Notebook by ds.visualize() or at https://app.activeloop.ai/activeloop/hasy-train\n",
            "\n"
          ]
        },
        {
          "output_type": "stream",
          "name": "stderr",
          "text": [
            "|"
          ]
        },
        {
          "output_type": "stream",
          "name": "stdout",
          "text": [
            "hub://activeloop/hasy-train loaded successfully.\n",
            "\n"
          ]
        },
        {
          "output_type": "stream",
          "name": "stderr",
          "text": []
        }
      ]
    },
    {
      "cell_type": "markdown",
      "source": [
        "train sample size"
      ],
      "metadata": {
        "id": "6CndsBmX4lsj"
      }
    },
    {
      "cell_type": "code",
      "source": [
        "len(ds)"
      ],
      "metadata": {
        "colab": {
          "base_uri": "https://localhost:8080/"
        },
        "id": "2usN-PcV0qdy",
        "outputId": "2d67bfe8-b04b-4b78-eb0c-02859da17116"
      },
      "execution_count": 4,
      "outputs": [
        {
          "output_type": "execute_result",
          "data": {
            "text/plain": [
              "151241"
            ]
          },
          "metadata": {},
          "execution_count": 4
        }
      ]
    },
    {
      "cell_type": "code",
      "source": [
        "# ds.visualize()"
      ],
      "metadata": {
        "id": "IA8HJW5SMvHB"
      },
      "execution_count": 5,
      "outputs": []
    },
    {
      "cell_type": "code",
      "source": [
        "dt = deeplake.load(\"hub://activeloop/hasy-test\")"
      ],
      "metadata": {
        "colab": {
          "base_uri": "https://localhost:8080/"
        },
        "id": "-AByHwtmF_0T",
        "outputId": "418fd048-e81b-4c44-f77e-589ab6ea2d8c"
      },
      "execution_count": 6,
      "outputs": [
        {
          "output_type": "stream",
          "name": "stderr",
          "text": [
            "/"
          ]
        },
        {
          "output_type": "stream",
          "name": "stdout",
          "text": [
            "Opening dataset in read-only mode as you don't have write permissions.\n"
          ]
        },
        {
          "output_type": "stream",
          "name": "stderr",
          "text": [
            "-"
          ]
        },
        {
          "output_type": "stream",
          "name": "stdout",
          "text": [
            "This dataset can be visualized in Jupyter Notebook by ds.visualize() or at https://app.activeloop.ai/activeloop/hasy-test\n",
            "\n"
          ]
        },
        {
          "output_type": "stream",
          "name": "stderr",
          "text": [
            "|"
          ]
        },
        {
          "output_type": "stream",
          "name": "stdout",
          "text": [
            "hub://activeloop/hasy-test loaded successfully.\n",
            "\n"
          ]
        },
        {
          "output_type": "stream",
          "name": "stderr",
          "text": [
            "\r \r\r\r"
          ]
        }
      ]
    },
    {
      "cell_type": "markdown",
      "source": [
        "test sample size"
      ],
      "metadata": {
        "id": "klg0jZ6D4qeM"
      }
    },
    {
      "cell_type": "code",
      "source": [
        "len(dt)"
      ],
      "metadata": {
        "colab": {
          "base_uri": "https://localhost:8080/"
        },
        "id": "vWPGGQ0G0DG4",
        "outputId": "fdb54beb-909d-4143-9d37-a88a9517fee2"
      },
      "execution_count": 7,
      "outputs": [
        {
          "output_type": "execute_result",
          "data": {
            "text/plain": [
              "16992"
            ]
          },
          "metadata": {},
          "execution_count": 7
        }
      ]
    },
    {
      "cell_type": "markdown",
      "source": [
        "### transformation"
      ],
      "metadata": {
        "id": "XZIvT99b8JT8"
      }
    },
    {
      "cell_type": "code",
      "source": [
        "transform_dict = {\n",
        "    'images': transforms.Compose([\n",
        "        transforms.ToTensor(),\n",
        "        transforms.Normalize((0.5,), (0.5,))  # Normalize with mean=0.5, std=0.5\n",
        "    ])\n",
        "}\n",
        "\n",
        "def custom_transform(sample):\n",
        "    for key, transform in transform_dict.items():\n",
        "        if key in sample:\n",
        "            sample[key] = transform(sample[key])\n",
        "    return sample"
      ],
      "metadata": {
        "id": "zQaUDMAvNqxO"
      },
      "execution_count": 8,
      "outputs": []
    },
    {
      "cell_type": "markdown",
      "source": [
        "### Data Loading"
      ],
      "metadata": {
        "id": "HMwT2qca6IrA"
      }
    },
    {
      "cell_type": "code",
      "source": [
        "train_dataloader = ds.pytorch(num_workers=0, batch_size=256, shuffle=True,decode_method={\n",
        "        'images': 'pil'\n",
        "    },transform=custom_transform)"
      ],
      "metadata": {
        "id": "DlIdLXAHGkUi"
      },
      "execution_count": 9,
      "outputs": []
    },
    {
      "cell_type": "code",
      "source": [
        "test_dataloader = dt.pytorch(num_workers=0, batch_size=256, shuffle=True,decode_method={\n",
        "        'images': 'pil'\n",
        "    },transform=custom_transform)"
      ],
      "metadata": {
        "id": "eBq6cq2QIyxz"
      },
      "execution_count": 10,
      "outputs": []
    },
    {
      "cell_type": "code",
      "source": [
        "train_features, train_labels, index = next(iter(train_dataloader))\n",
        "print(f\"Feature batch shape: {train_features.size()}\")\n",
        "print(f\"Labels batch shape: {train_labels.size()}\")\n",
        "\n",
        "# For RGB images, no need to use squeeze; directly select the image\n",
        "img = train_features[0].permute(1, 2, 0)  # Change dimensions from (C, H, W) to (H, W, C)\n",
        "label = train_labels[0]\n",
        "\n",
        "# Display the image using matplotlib\n",
        "plt.imshow(img)\n",
        "plt.show()\n",
        "\n",
        "print(f\"Label: {label}\")"
      ],
      "metadata": {
        "colab": {
          "base_uri": "https://localhost:8080/",
          "height": 499
        },
        "id": "2BWXSCGXVgNG",
        "outputId": "23366e83-3f77-42db-933b-992d2b733d71"
      },
      "execution_count": 18,
      "outputs": [
        {
          "output_type": "stream",
          "name": "stderr",
          "text": [
            "WARNING:matplotlib.image:Clipping input data to the valid range for imshow with RGB data ([0..1] for floats or [0..255] for integers).\n"
          ]
        },
        {
          "output_type": "stream",
          "name": "stdout",
          "text": [
            "Feature batch shape: torch.Size([256, 3, 32, 32])\n",
            "Labels batch shape: torch.Size([256, 1])\n"
          ]
        },
        {
          "output_type": "display_data",
          "data": {
            "text/plain": [
              "<Figure size 640x480 with 1 Axes>"
            ],
            "image/png": "[encoded data removed]"
          },
          "metadata": {}
        },
        {
          "output_type": "stream",
          "name": "stdout",
          "text": [
            "Label: tensor([69])\n"
          ]
        }
      ]
    },
    {
      "cell_type": "code",
      "source": [
        "dict(next(iter(test_dataloader))).keys()"
      ],
      "metadata": {
        "colab": {
          "base_uri": "https://localhost:8080/"
        },
        "id": "w-aRU9BC6AcA",
        "outputId": "0da788a4-6957-4dc1-b809-267bb1f8180a"
      },
      "execution_count": 11,
      "outputs": [
        {
          "output_type": "execute_result",
          "data": {
            "text/plain": [
              "dict_keys(['images', 'latex', 'index'])"
            ]
          },
          "metadata": {},
          "execution_count": 11
        }
      ]
    },
    {
      "cell_type": "markdown",
      "source": [
        "## Neural Network"
      ],
      "metadata": {
        "id": "dFt-5wMvNGY8"
      }
    },
    {
      "cell_type": "code",
      "source": [
        "class HASYNet(nn.Module):\n",
        "    def __init__(self):\n",
        "        super(HASYNet, self).__init__()\n",
        "        # Convolutional Layers\n",
        "        self.conv1 = nn.Conv2d(3, 32, kernel_size=3, padding=1)\n",
        "        self.conv2 = nn.Conv2d(32, 64, kernel_size=3, padding=1)\n",
        "        self.conv3 = nn.Conv2d(64, 128, kernel_size=3, padding=1)\n",
        "\n",
        "        # Pooling Layer\n",
        "        self.pool = nn.MaxPool2d(2, 2)\n",
        "\n",
        "        self.fc1_input_size = 128 * 4 * 4\n",
        "\n",
        "        # Fully Connected Layers\n",
        "        self.fc1 = nn.Linear(self.fc1_input_size, 512)\n",
        "        self.fc2 = nn.Linear(512, 369)  # 369 classes for output\n",
        "\n",
        "        # Activation\n",
        "        self.relu = nn.ReLU()\n",
        "\n",
        "        # Dropout for regularization\n",
        "        self.dropout = nn.Dropout(0.5)\n",
        "\n",
        "    def forward(self, x):\n",
        "        # Forward pass through convolutional layers with ReLU and MaxPool\n",
        "        x = self.pool(self.relu(self.conv1(x)))\n",
        "        x = self.pool(self.relu(self.conv2(x)))\n",
        "        x = self.pool(self.relu(self.conv3(x)))\n",
        "\n",
        "        # Flatten the tensor\n",
        "        x = x.view(-1, self.fc1_input_size)\n",
        "\n",
        "        # Fully Connected layers with ReLU and Dropout\n",
        "        x = self.relu(self.fc1(x))\n",
        "        x = self.dropout(x)\n",
        "        x = self.fc2(x)  # (batch_size, 369) -> Output layer\n",
        "\n",
        "        return x"
      ],
      "metadata": {
        "id": "b4y0cmrf6Ds3"
      },
      "execution_count": 12,
      "outputs": []
    },
    {
      "cell_type": "code",
      "source": [
        "device = 'cpu'\n",
        "device = torch.device(\"cuda\" if torch.cuda.is_available() else \"cpu\")"
      ],
      "metadata": {
        "id": "fkcgVlCk-VVi"
      },
      "execution_count": 13,
      "outputs": []
    },
    {
      "cell_type": "code",
      "source": [
        "model = HASYNet().to(device)\n",
        "criterion = nn.CrossEntropyLoss()\n",
        "optimizer = optim.Adam(model.parameters(), lr=0.001)"
      ],
      "metadata": {
        "id": "pB-RMM9a8wsq"
      },
      "execution_count": 14,
      "outputs": []
    },
    {
      "cell_type": "code",
      "source": [
        "model = HASYNet()  # Assuming HASYNet is defined elsewhere\n",
        "criterion = nn.CrossEntropyLoss()\n",
        "optimizer = optim.Adam(model.parameters(), lr=0.001)\n",
        "\n",
        "# Number of epochs\n",
        "num_epochs = 6\n",
        "\n",
        "# Function to evaluate loss and accuracy\n",
        "def evaluate_loss_and_accuracy(loader, model, criterion):\n",
        "    total_loss = 0.0\n",
        "    correct = 0\n",
        "    total = 0\n",
        "    model.eval()  # Set model to evaluation mode\n",
        "    with torch.no_grad():\n",
        "        for data in loader:\n",
        "            inputs = data['images']\n",
        "            labels = data['latex']\n",
        "\n",
        "            inputs.to(device)\n",
        "\n",
        "\n",
        "            labels = labels.squeeze()\n",
        "\n",
        "            labels.to(device)\n",
        "\n",
        "            outputs = model(inputs)\n",
        "            loss = criterion(outputs, labels)\n",
        "            total_loss += loss.item()\n",
        "\n",
        "            _, predicted = torch.max(outputs.data, 1)\n",
        "            total += labels.size(0)\n",
        "            correct += (predicted == labels).sum().item()\n",
        "\n",
        "    average_loss = total_loss / len(loader)\n",
        "    accuracy = 100 * correct / total\n",
        "    return average_loss, accuracy\n",
        "\n",
        "# Training and validation loop\n",
        "for epoch in range(num_epochs):\n",
        "    model.train()  # Set model to training mode\n",
        "    running_loss = 0.0\n",
        "\n",
        "    for i, data in enumerate(train_dataloader, 0):\n",
        "        inputs = data['images']\n",
        "        labels = data['latex']\n",
        "\n",
        "        inputs.to(device)\n",
        "\n",
        "        labels = labels.squeeze()\n",
        "\n",
        "        labels.to(device)\n",
        "\n",
        "        optimizer.zero_grad()\n",
        "        outputs = model(inputs)\n",
        "        loss = criterion(outputs, labels)\n",
        "        loss.backward()\n",
        "        optimizer.step()\n",
        "\n",
        "        running_loss += loss.item()\n",
        "        if i % 100 == 99:\n",
        "            print(f\"[Epoch {epoch + 1}, Batch {i + 1}] Training loss: {running_loss / 100:.3f}\")\n",
        "            running_loss = 0.0\n",
        "\n",
        "    # Calculate training loss and accuracy\n",
        "    train_loss, train_accuracy = evaluate_loss_and_accuracy(train_dataloader, model, criterion)\n",
        "    print(f'Epoch {epoch + 1} Training Loss: {train_loss:.4f}, Accuracy: {train_accuracy:.2f}%')\n",
        "\n",
        "    # Calculate validation loss and accuracy\n",
        "    val_loss, val_accuracy = evaluate_loss_and_accuracy(test_dataloader, model, criterion)\n",
        "    print(f'Epoch {epoch + 1} Validation Loss: {val_loss:.4f}, Accuracy: {val_accuracy:.2f}%')\n",
        "\n",
        "print('Finished Training')"
      ],
      "metadata": {
        "colab": {
          "base_uri": "https://localhost:8080/"
        },
        "id": "566wiXQNELIy",
        "outputId": "ef1d83df-0ba3-4d23-d894-3078415a8699"
      },
      "execution_count": 15,
      "outputs": [
        {
          "output_type": "stream",
          "name": "stdout",
          "text": [
            "[Epoch 1, Batch 100] Training loss: 4.077\n",
            "[Epoch 1, Batch 200] Training loss: 1.896\n",
            "[Epoch 1, Batch 300] Training loss: 1.397\n",
            "[Epoch 1, Batch 400] Training loss: 1.181\n",
            "[Epoch 1, Batch 500] Training loss: 1.080\n",
            "Epoch 1 Training Loss: 0.7051, Accuracy: 79.35%\n",
            "Epoch 1 Validation Loss: 0.6834, Accuracy: 78.62%\n",
            "[Epoch 2, Batch 100] Training loss: 0.937\n",
            "[Epoch 2, Batch 200] Training loss: 0.879\n",
            "[Epoch 2, Batch 300] Training loss: 0.871\n",
            "[Epoch 2, Batch 400] Training loss: 0.836\n",
            "[Epoch 2, Batch 500] Training loss: 0.830\n",
            "Epoch 2 Training Loss: 0.5695, Accuracy: 82.51%\n",
            "Epoch 2 Validation Loss: 0.5744, Accuracy: 81.50%\n",
            "[Epoch 3, Batch 100] Training loss: 0.769\n",
            "[Epoch 3, Batch 200] Training loss: 0.733\n",
            "[Epoch 3, Batch 300] Training loss: 0.718\n",
            "[Epoch 3, Batch 400] Training loss: 0.729\n",
            "[Epoch 3, Batch 500] Training loss: 0.722\n",
            "Epoch 3 Training Loss: 0.5038, Accuracy: 83.85%\n",
            "Epoch 3 Validation Loss: 0.5345, Accuracy: 82.15%\n",
            "[Epoch 4, Batch 100] Training loss: 0.644\n",
            "[Epoch 4, Batch 200] Training loss: 0.673\n",
            "[Epoch 4, Batch 300] Training loss: 0.683\n",
            "[Epoch 4, Batch 400] Training loss: 0.666\n",
            "[Epoch 4, Batch 500] Training loss: 0.667\n",
            "Epoch 4 Training Loss: 0.4609, Accuracy: 84.57%\n",
            "Epoch 4 Validation Loss: 0.5090, Accuracy: 82.37%\n",
            "[Epoch 5, Batch 100] Training loss: 0.572\n",
            "[Epoch 5, Batch 200] Training loss: 0.613\n",
            "[Epoch 5, Batch 300] Training loss: 0.624\n",
            "[Epoch 5, Batch 400] Training loss: 0.629\n",
            "[Epoch 5, Batch 500] Training loss: 0.614\n",
            "Epoch 5 Training Loss: 0.4258, Accuracy: 85.70%\n",
            "Epoch 5 Validation Loss: 0.4948, Accuracy: 83.19%\n",
            "[Epoch 6, Batch 100] Training loss: 0.536\n",
            "[Epoch 6, Batch 200] Training loss: 0.589\n",
            "[Epoch 6, Batch 300] Training loss: 0.586\n",
            "[Epoch 6, Batch 400] Training loss: 0.585\n",
            "[Epoch 6, Batch 500] Training loss: 0.604\n",
            "Epoch 6 Training Loss: 0.4012, Accuracy: 85.92%\n",
            "Epoch 6 Validation Loss: 0.4923, Accuracy: 82.91%\n",
            "Finished Training\n"
          ]
        }
      ]
    },
    {
      "cell_type": "code",
      "source": [
        "torch.save(model.state_dict(), \"hasy.pth\")"
      ],
      "metadata": {
        "id": "hyO6DJx6Qowu"
      },
      "execution_count": 16,
      "outputs": []
    },
    {
      "cell_type": "code",
      "source": [
        "model = HASYNet()\n",
        "model.load_state_dict(torch.load('/content/hasy.pth'))\n",
        "model.eval()\n",
        "\n",
        "\n",
        "data_iter = iter(test_dataloader)\n",
        "images, labels, indices = next(data_iter)\n",
        "\n",
        "\n",
        "outputs = model(images)\n",
        "_, predicted = torch.max(outputs, 1)\n",
        "\n",
        "\n",
        "fig, axes = plt.subplots(2, 5, figsize=(15, 6))\n",
        "axes = axes.flatten()\n",
        "\n",
        "for i in range(10):\n",
        "    img = images[i].permute(1, 2, 0)\n",
        "    label = labels[i].item()  # Get true label\n",
        "    pred = predicted[i].item()  # Get predicted label\n",
        "\n",
        "    axes[i].imshow(img)\n",
        "    axes[i].set_title(f\"True: {label}\\nPred: {pred}\")\n",
        "    axes[i].axis('off')\n",
        "\n",
        "plt.tight_layout()\n",
        "plt.show()"
      ],
      "metadata": {
        "id": "47I2DGks-etz",
        "colab": {
          "base_uri": "https://localhost:8080/",
          "height": 647
        },
        "outputId": "a655b3f9-1849-4ff4-909d-4421ce620d9a"
      },
      "execution_count": 21,
      "outputs": [
        {
          "output_type": "stream",
          "name": "stderr",
          "text": [
            "WARNING:matplotlib.image:Clipping input data to the valid range for imshow with RGB data ([0..1] for floats or [0..255] for integers).\n",
            "WARNING:matplotlib.image:Clipping input data to the valid range for imshow with RGB data ([0..1] for floats or [0..255] for integers).\n",
            "WARNING:matplotlib.image:Clipping input data to the valid range for imshow with RGB data ([0..1] for floats or [0..255] for integers).\n",
            "WARNING:matplotlib.image:Clipping input data to the valid range for imshow with RGB data ([0..1] for floats or [0..255] for integers).\n",
            "WARNING:matplotlib.image:Clipping input data to the valid range for imshow with RGB data ([0..1] for floats or [0..255] for integers).\n",
            "WARNING:matplotlib.image:Clipping input data to the valid range for imshow with RGB data ([0..1] for floats or [0..255] for integers).\n",
            "WARNING:matplotlib.image:Clipping input data to the valid range for imshow with RGB data ([0..1] for floats or [0..255] for integers).\n",
            "WARNING:matplotlib.image:Clipping input data to the valid range for imshow with RGB data ([0..1] for floats or [0..255] for integers).\n",
            "WARNING:matplotlib.image:Clipping input data to the valid range for imshow with RGB data ([0..1] for floats or [0..255] for integers).\n",
            "WARNING:matplotlib.image:Clipping input data to the valid range for imshow with RGB data ([0..1] for floats or [0..255] for integers).\n"
          ]
        },
        {
          "output_type": "display_data",
          "data": {
            "text/plain": [
              "<Figure size 1500x600 with 10 Axes>"
            ],
            "image/png": "[encoded data removed]"
          },
          "metadata": {}
        }
      ]
    },
    {
      "cell_type": "code",
      "source": [],
      "metadata": {
        "id": "C7NRcqsq_0nI"
      },
      "execution_count": 16,
      "outputs": []
    }
  ]
}